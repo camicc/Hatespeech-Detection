{
 "cells": [
  {
   "cell_type": "code",
   "execution_count": 2,
   "metadata": {},
   "outputs": [],
   "source": [
    "import pandas as pd\n",
    "\n",
    "from vaderSentiment.vaderSentiment import SentimentIntensityAnalyzer"
   ]
  },
  {
   "cell_type": "code",
   "execution_count": 8,
   "metadata": {},
   "outputs": [],
   "source": [
    "def get_original_data():\n",
    "    # Load VADER sentiment analyzer\n",
    "    analyzer = SentimentIntensityAnalyzer()\n",
    "\n",
    "    # Load the JSON file into a DataFrame\n",
    "    file_path = 'data/sarcasm_data.json'\n",
    "    df = pd.read_json(file_path).transpose()\n",
    "\n",
    "    # Reset the index to turn the first element into a new column\n",
    "    df = df.reset_index()\n",
    "\n",
    "    # Define a function to apply sentiment analysis to a text\n",
    "    def get_sentiment(text):\n",
    "        return analyzer.polarity_scores(text)\n",
    "\n",
    "    # Apply sentiment analysis to the 'utterance' column\n",
    "    df['sentiment_utterance'] = df['utterance'].apply(get_sentiment)\n",
    "\n",
    "    # Apply sentiment analysis to the 'context' column\n",
    "    df['sentiment_context_all'] = df['context'].apply(get_sentiment)\n",
    "\n",
    "    # Apply sentiment analysis to each sentence in the 'context' column\n",
    "    df['sentiment_context_per_sentence'] = df['context'].apply(lambda context: [get_sentiment(sentence) for sentence in context])\n",
    "\n",
    "    return df"
   ]
  },
  {
   "cell_type": "markdown",
   "metadata": {},
   "source": [
    "## Add one extra predictor as an array call \"sentiment_utterance\" (logic then is onehot-encoded)"
   ]
  },
  {
   "cell_type": "code",
   "execution_count": 20,
   "metadata": {},
   "outputs": [],
   "source": [
    "# U : Uterance sentiment\n",
    "# O : Overall context sentiment\n",
    "# Co : With compound information"
   ]
  },
  {
   "cell_type": "markdown",
   "metadata": {},
   "source": [
    "### Uterance & overall context sentiments with pos, neu, neg and compound"
   ]
  },
  {
   "cell_type": "code",
   "execution_count": 39,
   "metadata": {},
   "outputs": [],
   "source": [
    "df = get_original_data()\n",
    "\n",
    "# Transform the dictionaries into arrays of scores\n",
    "df['sentiment_features'] = df['sentiment_utterance'].apply(lambda x: list(x.values())) + df['sentiment_context_all'].apply(lambda x: list(x.values()))\n",
    "\n",
    "# Transpose the dataframe to get the orignal json format\n",
    "df = df.transpose()\n",
    "\n",
    "df.to_json('sarcasm_data_sentiment_UOC.json')"
   ]
  },
  {
   "cell_type": "markdown",
   "metadata": {},
   "source": [
    "### Uterance & overall context sentiments with pos, neu, neg "
   ]
  },
  {
   "cell_type": "code",
   "execution_count": 38,
   "metadata": {},
   "outputs": [],
   "source": [
    "df = get_original_data()\n",
    "\n",
    "def remove_compound(dict):\n",
    "    return {key: value for key, value in dict.items() if key != 'compound'}\n",
    "\n",
    "# Apply the function to the 'sentiment_utterance' and 'sentiment_context_all' columns\n",
    "df['sentiment_utterance'] = df['sentiment_utterance'].apply(remove_compound)\n",
    "df['sentiment_context_all'] = df['sentiment_context_all'].apply(remove_compound)\n",
    "\n",
    "# Transform the dictionaries into arrays of scores\n",
    "df['sentiment_features'] = df['sentiment_utterance'].apply(lambda x: list(x.values())) + df['sentiment_context_all'].apply(lambda x: list(x.values()))\n",
    "\n",
    "# Transpose the dataframe to get the original json format\n",
    "df = df.transpose()\n",
    "\n",
    "df.to_json('sarcasm_data_sentiment_UO.json')"
   ]
  },
  {
   "cell_type": "markdown",
   "metadata": {},
   "source": [
    "### Uterance sentiments with pos, neu, neg and compound"
   ]
  },
  {
   "cell_type": "code",
   "execution_count": 4,
   "metadata": {},
   "outputs": [],
   "source": [
    "df = get_original_data()\n",
    "\n",
    "# Transform the dictionaries into arrays of scores\n",
    "df['sentiment_features'] = df['sentiment_utterance'].apply(lambda x: list(x.values()))\n",
    "\n",
    "# Transpose the dataframe to get the orignal json format\n",
    "df = df.transpose()\n",
    "\n",
    "df.to_json('sarcasm_data_sentiment_UC.json')"
   ]
  },
  {
   "cell_type": "markdown",
   "metadata": {},
   "source": [
    "### Uterance sentiments with pos, neu, neg"
   ]
  },
  {
   "cell_type": "code",
   "execution_count": 5,
   "metadata": {},
   "outputs": [],
   "source": [
    "df = get_original_data()\n",
    "\n",
    "def remove_compound(dict):\n",
    "    return {key: value for key, value in dict.items() if key != 'compound'}\n",
    "\n",
    "# Apply the function to the 'sentiment_utterance' columns\n",
    "df['sentiment_utterance'] = df['sentiment_utterance'].apply(remove_compound)\n",
    "\n",
    "# Transform the dictionaries into arrays of scores\n",
    "df['sentiment_features'] = df['sentiment_utterance'].apply(lambda x: list(x.values())) \n",
    "\n",
    "# Transpose the dataframe to get the original json format\n",
    "df = df.transpose()\n",
    "\n",
    "df.to_json('sarcasm_data_sentiment_U.json')"
   ]
  },
  {
   "cell_type": "markdown",
   "metadata": {},
   "source": [
    "# Add columns"
   ]
  },
  {
   "cell_type": "code",
   "execution_count": 31,
   "metadata": {},
   "outputs": [],
   "source": [
    "df = get_original_data()\n",
    "\n",
    "# Splits the dictionaries into columns in a DataFrame\n",
    "df_utterance = pd.DataFrame(df['sentiment_utterance'].tolist()).add_prefix('utterance_')\n",
    "df_context = pd.DataFrame(df['sentiment_context_all'].tolist()).add_prefix('context_')\n",
    "\n",
    "# Concatenates the two DataFrames\n",
    "df_sentiment = pd.concat([df_utterance, df_context], axis=1)\n",
    "\n",
    "df_sentiment\n",
    "\n",
    "df_sentiment.to_csv('sarcasm_data_sentiment_all.csv')"
   ]
  }
 ],
 "metadata": {
  "kernelspec": {
   "display_name": "HateSpeech",
   "language": "python",
   "name": "python3"
  },
  "language_info": {
   "codemirror_mode": {
    "name": "ipython",
    "version": 3
   },
   "file_extension": ".py",
   "mimetype": "text/x-python",
   "name": "python",
   "nbconvert_exporter": "python",
   "pygments_lexer": "ipython3",
   "version": "3.12.3"
  }
 },
 "nbformat": 4,
 "nbformat_minor": 2
}
